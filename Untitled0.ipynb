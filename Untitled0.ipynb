{
  "nbformat": 4,
  "nbformat_minor": 0,
  "metadata": {
    "colab": {
      "provenance": [],
      "authorship_tag": "ABX9TyMRCvIgCKpQthsi5YaDKLq4",
      "include_colab_link": true
    },
    "kernelspec": {
      "name": "python3",
      "display_name": "Python 3"
    },
    "language_info": {
      "name": "python"
    }
  },
  "cells": [
    {
      "cell_type": "markdown",
      "metadata": {
        "id": "view-in-github",
        "colab_type": "text"
      },
      "source": [
        "<a href=\"https://colab.research.google.com/github/CorogodinD/Pyton/blob/main/Untitled0.ipynb\" target=\"_parent\"><img src=\"https://colab.research.google.com/assets/colab-badge.svg\" alt=\"Open In Colab\"/></a>"
      ]
    },
    {
      "cell_type": "code",
      "execution_count": null,
      "metadata": {
        "colab": {
          "base_uri": "https://localhost:8080/"
        },
        "id": "kXaVov1snTet",
        "outputId": "7231c039-e58e-4c52-ed79-7c910a85f36e"
      },
      "outputs": [
        {
          "output_type": "stream",
          "name": "stdout",
          "text": [
            "x(1)=1.2897196\n",
            "x(2)=1.1495327\n",
            "x(3)=1.6074766\n"
          ]
        },
        {
          "output_type": "stream",
          "name": "stderr",
          "text": [
            "<ipython-input-1-e9fb5bd74886>:11: DeprecationWarning: Conversion of an array with ndim > 0 to a scalar is deprecated, and will error in future. Ensure you extract a single element from your array before performing this operation. (Deprecated NumPy 1.25.)\n",
            "  print(\"x(%i)=%.7f\"%(i+1,x[i]))\n"
          ]
        }
      ],
      "source": [
        "import numpy as np\n",
        "from scipy.linalg import*\n",
        "A = np.array([\n",
        "    [3,-2,4],\n",
        "    [-1,0,12],\n",
        "    [4,3,-1]\n",
        "])\n",
        "b=np.array([8,18,7]).reshape(3,1)\n",
        "x=solve(A,b)\n",
        "for i in range(len(b)):\n",
        "  print(\"x(%i)=%.7f\"%(i+1,x[i]))\n"
      ]
    },
    {
      "cell_type": "code",
      "source": [
        "from scipy.linalg import*\n",
        "A = [\n",
        "    [3,6,7],\n",
        "    [2,3,1],\n",
        "    [6,5,4]\n",
        "]\n",
        "B = inv(A)\n",
        "B"
      ],
      "metadata": {
        "id": "NP9qiVW8s0UO",
        "outputId": "704a7e58-6acb-47db-a8b9-2005e02725ca",
        "colab": {
          "base_uri": "https://localhost:8080/"
        }
      },
      "execution_count": null,
      "outputs": [
        {
          "output_type": "execute_result",
          "data": {
            "text/plain": [
              "array([[-0.14893617, -0.23404255,  0.31914894],\n",
              "       [ 0.04255319,  0.63829787, -0.23404255],\n",
              "       [ 0.17021277, -0.44680851,  0.06382979]])"
            ]
          },
          "metadata": {},
          "execution_count": 2
        }
      ]
    },
    {
      "cell_type": "code",
      "source": [
        "import numpy as np\n",
        "from scipy. linalg import*\n",
        "A = np.array([\n",
        "    [3,6,7],\n",
        "    [2,3,1],\n",
        "    [6,5,4]\n",
        "])\n",
        "B =inv(A)"
      ],
      "metadata": {
        "id": "Fo1RA40muIU0"
      },
      "execution_count": null,
      "outputs": []
    },
    {
      "cell_type": "code",
      "source": [
        "import numpy as np\n",
        "from scipy import linalg\n",
        "A = np.array([\n",
        "    [3,6,7],\n",
        "    [2,3,1],\n",
        "    [6,5,4]])\n",
        "B = linalg.det(A)\n",
        "print(B)"
      ],
      "metadata": {
        "colab": {
          "base_uri": "https://localhost:8080/"
        },
        "id": "sax2HXPeIf9t",
        "outputId": "408c5188-8c03-4400-99e2-1ee89179f11f"
      },
      "execution_count": null,
      "outputs": [
        {
          "output_type": "stream",
          "name": "stdout",
          "text": [
            "-47.0\n"
          ]
        }
      ]
    },
    {
      "cell_type": "code",
      "source": [
        "import numpy as np; from scipy import linalg\n",
        "\n",
        "\n",
        "\n",
        "\n",
        "A = np. array ([[-1,-6], [2,6]]); linalg.eig(A)"
      ],
      "metadata": {
        "colab": {
          "base_uri": "https://localhost:8080/"
        },
        "id": "FhJ8zWa9J1Cc",
        "outputId": "e8b619cf-61ae-4e62-dbdc-9cb90b58130a"
      },
      "execution_count": null,
      "outputs": [
        {
          "output_type": "execute_result",
          "data": {
            "text/plain": [
              "(array([2.+0.j, 3.+0.j]),\n",
              " array([[-0.89442719,  0.83205029],\n",
              "        [ 0.4472136 , -0.5547002 ]]))"
            ]
          },
          "metadata": {},
          "execution_count": 18
        }
      ]
    },
    {
      "cell_type": "code",
      "source": [
        "import numpy as np\n",
        "from scipy. linalg import*\n",
        "a: int = 7\n",
        "b: int = 3\n",
        "y: int = 1\n",
        "o: int = 2\n",
        "u: int = 0\n",
        "v: int = 5\n",
        "A = np.array([\n",
        "    [2,3+a,4-u],\n",
        "    [b,y,v],\n",
        "    [5,10*u,-2],\n",
        "])\n",
        "B = np.array([\n",
        "[b,-3,4+u],\n",
        "[a,4,v],\n",
        "[5*u,10,-2]\n",
        "])\n",
        "C = np.array([\n",
        "    [-1,3+u,4-v],\n",
        "    [2,1,v],\n",
        "    [5,5-u,-2]\n",
        "])\n",
        "x = A*B*C\n",
        "print (x)\n"
      ],
      "metadata": {
        "id": "wS6aHeQZALDv",
        "colab": {
          "base_uri": "https://localhost:8080/"
        },
        "outputId": "bedd2160-96d6-4491-ddfb-7657e3c2d7b7"
      },
      "execution_count": 25,
      "outputs": [
        {
          "output_type": "stream",
          "name": "stdout",
          "text": [
            "[[ -6 -90 -16]\n",
            " [ 42   4 125]\n",
            " [  0   0  -8]]\n"
          ]
        }
      ]
    },
    {
      "cell_type": "code",
      "source": [],
      "metadata": {
        "id": "8Aj6QR2aLqZz"
      },
      "execution_count": null,
      "outputs": []
    }
  ]
}